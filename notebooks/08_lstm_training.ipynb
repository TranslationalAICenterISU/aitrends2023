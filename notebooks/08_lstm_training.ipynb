{
  "nbformat": 4,
  "nbformat_minor": 0,
  "metadata": {
    "colab": {
      "name": "LSTM TS demo.ipynb",
      "provenance": [],
      "collapsed_sections": [],
      "toc_visible": true
    },
    "kernelspec": {
      "name": "python3",
      "display_name": "Python 3"
    },
    "accelerator": "GPU"
  },
  "cells": [
    {
      "cell_type": "markdown",
      "metadata": {
        "id": "Hf839-J9OjJP"
      },
      "source": [
        "Time Series LSTM\n",
        "----\n",
        "Multivariate Multi-lag Timestep Single Output Forecast"
      ]
    },
    {
      "cell_type": "code",
      "metadata": {
        "id": "DjtOqFgzImDn"
      },
      "source": [
        "from math import sqrt\n",
        "from numpy import concatenate\n",
        "from matplotlib import pyplot\n",
        "# Highly recommended for time series data\n",
        "from pandas import read_csv\n",
        "from pandas import DataFrame\n",
        "from pandas import concat\n",
        "# Processing and metrics\n",
        "from sklearn.preprocessing import MinMaxScaler\n",
        "from sklearn.preprocessing import LabelEncoder\n",
        "from sklearn.metrics import mean_squared_error\n",
        "# keras --2019--> tf.keras\n",
        "from keras.models import Sequential\n",
        "from keras.layers import Dense\n",
        "from keras.layers import LSTM"
      ],
      "execution_count": null,
      "outputs": []
    },
    {
      "cell_type": "markdown",
      "metadata": {
        "id": "gkmHY5NrPQju"
      },
      "source": [
        "Raw Data Cleaning\n",
        "----\n",
        "Beijing PM2.5 dataset: Hourly pollution data"
      ]
    },
    {
      "cell_type": "code",
      "metadata": {
        "id": "0RMhp3C9Osvn",
        "colab": {
          "base_uri": "https://localhost:8080/"
        },
        "outputId": "709d5124-11eb-474f-999d-19ae30e787d1"
      },
      "source": [
        "from datetime import datetime\n",
        "# load data\n",
        "def parse(x):\n",
        "\treturn datetime.strptime(x, '%Y %m %d %H')\n",
        "dataset = read_csv('raw.csv', index_col=0)\n",
        "print(dataset.head(10))\n",
        "dataset = read_csv('raw.csv',  parse_dates = [['year', 'month', 'day', 'hour']], index_col=0, date_parser=parse)\n",
        "print(dataset.head(5))\n",
        "dataset.drop('No', axis=1, inplace=True)\n",
        "# manually specify column names\n",
        "dataset.columns = ['pollution', 'dew', 'temp', 'press', 'wnd_dir', 'wnd_spd', 'snow', 'rain']\n",
        "dataset.index.name = 'date'\n",
        "# mark all NA values with 0\n",
        "dataset['pollution'].fillna(0, inplace=True)\n",
        "# drop the first 24 hours\n",
        "dataset = dataset[24:]\n",
        "# summarize first 5 rows\n",
        "print(dataset.head(5))\n",
        "# save to file\n",
        "dataset.to_csv('pollution.csv')"
      ],
      "execution_count": null,
      "outputs": [
        {
          "output_type": "stream",
          "text": [
            "    year  month  day  hour  pm2.5  DEWP  TEMP    PRES cbwd    Iws  Is  Ir\n",
            "No                                                                       \n",
            "1   2010      1    1     0    NaN   -21 -11.0  1021.0   NW   1.79   0   0\n",
            "2   2010      1    1     1    NaN   -21 -12.0  1020.0   NW   4.92   0   0\n",
            "3   2010      1    1     2    NaN   -21 -11.0  1019.0   NW   6.71   0   0\n",
            "4   2010      1    1     3    NaN   -21 -14.0  1019.0   NW   9.84   0   0\n",
            "5   2010      1    1     4    NaN   -20 -12.0  1018.0   NW  12.97   0   0\n",
            "                     No  pm2.5  DEWP  TEMP    PRES cbwd    Iws  Is  Ir\n",
            "year_month_day_hour                                                   \n",
            "2010-01-01 00:00:00   1    NaN   -21 -11.0  1021.0   NW   1.79   0   0\n",
            "2010-01-01 01:00:00   2    NaN   -21 -12.0  1020.0   NW   4.92   0   0\n",
            "2010-01-01 02:00:00   3    NaN   -21 -11.0  1019.0   NW   6.71   0   0\n",
            "2010-01-01 03:00:00   4    NaN   -21 -14.0  1019.0   NW   9.84   0   0\n",
            "2010-01-01 04:00:00   5    NaN   -20 -12.0  1018.0   NW  12.97   0   0\n",
            "                     pollution  dew  temp   press wnd_dir  wnd_spd  snow  rain\n",
            "date                                                                          \n",
            "2010-01-02 00:00:00      129.0  -16  -4.0  1020.0      SE     1.79     0     0\n",
            "2010-01-02 01:00:00      148.0  -15  -4.0  1020.0      SE     2.68     0     0\n",
            "2010-01-02 02:00:00      159.0  -11  -5.0  1021.0      SE     3.57     0     0\n",
            "2010-01-02 03:00:00      181.0   -7  -5.0  1022.0      SE     5.36     1     0\n",
            "2010-01-02 04:00:00      138.0   -7  -5.0  1022.0      SE     6.25     2     0\n"
          ],
          "name": "stdout"
        }
      ]
    },
    {
      "cell_type": "markdown",
      "metadata": {
        "id": "u9OEiQuZPqvP"
      },
      "source": [
        "Quick view on cleaned data\n",
        "----"
      ]
    },
    {
      "cell_type": "code",
      "metadata": {
        "id": "CIew1Kjn1MW_",
        "colab": {
          "base_uri": "https://localhost:8080/",
          "height": 548
        },
        "outputId": "55314d00-85ae-4aa5-85db-ec54f5a937bb"
      },
      "source": [
        "# load dataset\n",
        "dataset = read_csv('pollution.csv', header=0, index_col=0)\n",
        "values = dataset.values\n",
        "# specify columns to plot\n",
        "groups = [0, 1, 2, 3, 5, 6, 7]\n",
        "i = 1\n",
        "# plot each column\n",
        "pyplot.figure()\n",
        "for group in groups:\n",
        "\tpyplot.subplot(len(groups), 1, i)\n",
        "\tpyplot.plot(values[:, group])\n",
        "\tpyplot.title(dataset.columns[group], y=0.5, loc='right')\n",
        "\ti += 1\n",
        "pyplot.show()\n",
        "dataset.describe() # Awesome for data summary!"
      ],
      "execution_count": null,
      "outputs": [
        {
          "output_type": "display_data",
          "data": {
            "image/png": "[encoded data removed]",
            "text/plain": [
              "<Figure size 432x288 with 7 Axes>"
            ]
          },
          "metadata": {
            "tags": [],
            "needs_background": "light"
          }
        },
        {
          "output_type": "execute_result",
          "data": {
            "text/html": [
              "<div>\n",
              "<style scoped>\n",
              "    .dataframe tbody tr th:only-of-type {\n",
              "        vertical-align: middle;\n",
              "    }\n",
              "\n",
              "    .dataframe tbody tr th {\n",
              "        vertical-align: top;\n",
              "    }\n",
              "\n",
              "    .dataframe thead th {\n",
              "        text-align: right;\n",
              "    }\n",
              "</style>\n",
              "<table border=\"1\" class=\"dataframe\">\n",
              "  <thead>\n",
              "    <tr style=\"text-align: right;\">\n",
              "      <th></th>\n",
              "      <th>pollution</th>\n",
              "      <th>dew</th>\n",
              "      <th>temp</th>\n",
              "      <th>press</th>\n",
              "      <th>wnd_spd</th>\n",
              "      <th>snow</th>\n",
              "      <th>rain</th>\n",
              "    </tr>\n",
              "  </thead>\n",
              "  <tbody>\n",
              "    <tr>\n",
              "      <th>count</th>\n",
              "      <td>43800.000000</td>\n",
              "      <td>43800.000000</td>\n",
              "      <td>43800.000000</td>\n",
              "      <td>43800.000000</td>\n",
              "      <td>43800.000000</td>\n",
              "      <td>43800.000000</td>\n",
              "      <td>43800.000000</td>\n",
              "    </tr>\n",
              "    <tr>\n",
              "      <th>mean</th>\n",
              "      <td>94.013516</td>\n",
              "      <td>1.828516</td>\n",
              "      <td>12.459041</td>\n",
              "      <td>1016.447306</td>\n",
              "      <td>23.894307</td>\n",
              "      <td>0.052763</td>\n",
              "      <td>0.195023</td>\n",
              "    </tr>\n",
              "    <tr>\n",
              "      <th>std</th>\n",
              "      <td>92.252276</td>\n",
              "      <td>14.429326</td>\n",
              "      <td>12.193384</td>\n",
              "      <td>10.271411</td>\n",
              "      <td>50.022729</td>\n",
              "      <td>0.760582</td>\n",
              "      <td>1.416247</td>\n",
              "    </tr>\n",
              "    <tr>\n",
              "      <th>min</th>\n",
              "      <td>0.000000</td>\n",
              "      <td>-40.000000</td>\n",
              "      <td>-19.000000</td>\n",
              "      <td>991.000000</td>\n",
              "      <td>0.450000</td>\n",
              "      <td>0.000000</td>\n",
              "      <td>0.000000</td>\n",
              "    </tr>\n",
              "    <tr>\n",
              "      <th>25%</th>\n",
              "      <td>24.000000</td>\n",
              "      <td>-10.000000</td>\n",
              "      <td>2.000000</td>\n",
              "      <td>1008.000000</td>\n",
              "      <td>1.790000</td>\n",
              "      <td>0.000000</td>\n",
              "      <td>0.000000</td>\n",
              "    </tr>\n",
              "    <tr>\n",
              "      <th>50%</th>\n",
              "      <td>68.000000</td>\n",
              "      <td>2.000000</td>\n",
              "      <td>14.000000</td>\n",
              "      <td>1016.000000</td>\n",
              "      <td>5.370000</td>\n",
              "      <td>0.000000</td>\n",
              "      <td>0.000000</td>\n",
              "    </tr>\n",
              "    <tr>\n",
              "      <th>75%</th>\n",
              "      <td>132.250000</td>\n",
              "      <td>15.000000</td>\n",
              "      <td>23.000000</td>\n",
              "      <td>1025.000000</td>\n",
              "      <td>21.910000</td>\n",
              "      <td>0.000000</td>\n",
              "      <td>0.000000</td>\n",
              "    </tr>\n",
              "    <tr>\n",
              "      <th>max</th>\n",
              "      <td>994.000000</td>\n",
              "      <td>28.000000</td>\n",
              "      <td>42.000000</td>\n",
              "      <td>1046.000000</td>\n",
              "      <td>585.600000</td>\n",
              "      <td>27.000000</td>\n",
              "      <td>36.000000</td>\n",
              "    </tr>\n",
              "  </tbody>\n",
              "</table>\n",
              "</div>"
            ],
            "text/plain": [
              "          pollution           dew  ...          snow          rain\n",
              "count  43800.000000  43800.000000  ...  43800.000000  43800.000000\n",
              "mean      94.013516      1.828516  ...      0.052763      0.195023\n",
              "std       92.252276     14.429326  ...      0.760582      1.416247\n",
              "min        0.000000    -40.000000  ...      0.000000      0.000000\n",
              "25%       24.000000    -10.000000  ...      0.000000      0.000000\n",
              "50%       68.000000      2.000000  ...      0.000000      0.000000\n",
              "75%      132.250000     15.000000  ...      0.000000      0.000000\n",
              "max      994.000000     28.000000  ...     27.000000     36.000000\n",
              "\n",
              "[8 rows x 7 columns]"
            ]
          },
          "metadata": {
            "tags": []
          },
          "execution_count": 3
        }
      ]
    },
    {
      "cell_type": "markdown",
      "metadata": {
        "id": "oBMTuqbkQDki"
      },
      "source": [
        "Data Processing\n",
        "----\n",
        "* Encode categorical data\n",
        "* Scaling\n",
        "* *series_to_supervised()*"
      ]
    },
    {
      "cell_type": "code",
      "metadata": {
        "id": "FdboBo5S1mZZ",
        "colab": {
          "base_uri": "https://localhost:8080/"
        },
        "outputId": "687513b0-b727-469c-ccdf-2dacf2a42567"
      },
      "source": [
        "# prepare data for lstm\n",
        "\n",
        "# convert series to supervised learning  --> stride?\n",
        "def series_to_supervised(data, n_in=1, n_out=1, dropnan=True):\n",
        "\tn_vars = 1 if type(data) is list else data.shape[1]\n",
        "\tdf = DataFrame(data)\n",
        "\tcols, names = list(), list()\n",
        "\t# input sequence (t-n, ... t-1)\n",
        "\tfor i in range(n_in, 0, -1): # shift to hist. according to n_in\n",
        "\t\tcols.append(df.shift(i))\n",
        "\t\tnames += [('var%d(t-%d)' % (j+1, i)) for j in range(n_vars)]\n",
        "\t# forecast sequence (t, t+1, ... t+n)\n",
        "\tfor i in range(0, n_out): # shift to future according to n_out\n",
        "\t\tcols.append(df.shift(-i))\n",
        "\t\tif i == 0:\n",
        "\t\t\tnames += [('var%d(t)' % (j+1)) for j in range(n_vars)]\n",
        "\t\telse:\n",
        "\t\t\tnames += [('var%d(t+%d)' % (j+1, i)) for j in range(n_vars)]\n",
        "\t# put it all together\n",
        "\tagg = concat(cols, axis=1)\n",
        "\tagg.columns = names\n",
        "\t# drop rows with NaN values\n",
        "\tif dropnan:\n",
        "\t\tagg.dropna(inplace=True)\n",
        "\treturn agg\n",
        "\n",
        "# load dataset\n",
        "dataset = read_csv('pollution.csv', header=0, index_col=0)\n",
        "values = dataset.values\n",
        "# integer encode direction\n",
        "encoder = LabelEncoder()\n",
        "values[:,4] = encoder.fit_transform(values[:,4]) # Wind Dir\n",
        "# ensure all data is float\n",
        "values = values.astype('float32')\n",
        "# normalize features\n",
        "scaler = MinMaxScaler(feature_range=(0, 1))\n",
        "scaled = scaler.fit_transform(values)\n",
        "# frame as supervised learning\n",
        "reframed = series_to_supervised(scaled, 1, 1)\n",
        "# drop columns we don't want to predict (everything except pollution)\n",
        "print(\"Before Drop:\")\n",
        "print(reframed.head())\n",
        "reframed.drop(reframed.columns[[9,10,11,12,13,14,15]], axis=1, inplace=True)\n",
        "print(\"After Drop:\")\n",
        "print(reframed.head())"
      ],
      "execution_count": null,
      "outputs": [
        {
          "output_type": "stream",
          "text": [
            "Before Drop:\n",
            "   var1(t-1)  var2(t-1)  var3(t-1)  ...   var6(t)   var7(t)  var8(t)\n",
            "1   0.129779   0.352941   0.245902  ...  0.003811  0.000000      0.0\n",
            "2   0.148893   0.367647   0.245902  ...  0.005332  0.000000      0.0\n",
            "3   0.159960   0.426471   0.229508  ...  0.008391  0.037037      0.0\n",
            "4   0.182093   0.485294   0.229508  ...  0.009912  0.074074      0.0\n",
            "5   0.138833   0.485294   0.229508  ...  0.011433  0.111111      0.0\n",
            "\n",
            "[5 rows x 16 columns]\n",
            "After Drop:\n",
            "   var1(t-1)  var2(t-1)  var3(t-1)  ...  var7(t-1)  var8(t-1)   var1(t)\n",
            "1   0.129779   0.352941   0.245902  ...   0.000000        0.0  0.148893\n",
            "2   0.148893   0.367647   0.245902  ...   0.000000        0.0  0.159960\n",
            "3   0.159960   0.426471   0.229508  ...   0.000000        0.0  0.182093\n",
            "4   0.182093   0.485294   0.229508  ...   0.037037        0.0  0.138833\n",
            "5   0.138833   0.485294   0.229508  ...   0.074074        0.0  0.109658\n",
            "\n",
            "[5 rows x 9 columns]\n"
          ],
          "name": "stdout"
        }
      ]
    },
    {
      "cell_type": "markdown",
      "metadata": {
        "id": "6NlfIWNtQZBO"
      },
      "source": [
        "Train-Test Split\n",
        "----\n",
        "**Data dimension:**\n",
        "* X: [num_samples, timesteps (aka lag), features (aka num. variables)] \n",
        "* Y: [num_samples, ]"
      ]
    },
    {
      "cell_type": "code",
      "metadata": {
        "id": "YwYPNn4H1t2L",
        "colab": {
          "base_uri": "https://localhost:8080/"
        },
        "outputId": "1fdc1362-4329-404a-a633-22f1524844ed"
      },
      "source": [
        "# split into train and test sets\n",
        "values = reframed.values\n",
        "n_train_hours = 365 * 24 # One year worth training data\n",
        "train = values[:n_train_hours, :]\n",
        "test = values[n_train_hours:, :]\n",
        "# split into input and outputs\n",
        "train_X, train_y = train[:, :-1], train[:, -1]\n",
        "test_X, test_y = test[:, :-1], test[:, -1]\n",
        "# reshape input to be 3D [num_samples, timesteps, features]\n",
        "train_X = train_X.reshape((train_X.shape[0], 1, train_X.shape[1])) # timestep = 1 (lag)\n",
        "test_X = test_X.reshape((test_X.shape[0], 1, test_X.shape[1]))\n",
        "print(train_X.shape, train_y.shape, test_X.shape, test_y.shape)"
      ],
      "execution_count": null,
      "outputs": [
        {
          "output_type": "stream",
          "text": [
            "(8760, 1, 8) (8760,) (35039, 1, 8) (35039,)\n"
          ],
          "name": "stdout"
        }
      ]
    },
    {
      "cell_type": "markdown",
      "metadata": {
        "id": "p5u2RERDRmyd"
      },
      "source": [
        "Define and Train Model\n",
        "----"
      ]
    },
    {
      "cell_type": "code",
      "metadata": {
        "id": "2BFUH3421xqA",
        "colab": {
          "base_uri": "https://localhost:8080/"
        },
        "outputId": "50e09a93-2fe3-4678-b35c-8f7eeaeadbfb"
      },
      "source": [
        "...\n",
        "# design network\n",
        "model = Sequential()\n",
        "model.add(LSTM(50, input_shape=(train_X.shape[1], train_X.shape[2])))\n",
        "model.add(Dense(1))\n",
        "model.compile(loss='mae', optimizer='adam') # Mean Absolute Error with Adam opt.\n",
        "# fit network\n",
        "history = model.fit(train_X, train_y, epochs=50, batch_size=72, validation_data=(test_X, test_y), verbose=2, shuffle=False)\n",
        "# plot history\n",
        "pyplot.plot(history.history['loss'], label='train')\n",
        "pyplot.plot(history.history['val_loss'], label='test')\n",
        "pyplot.legend()\n",
        "pyplot.show()"
      ],
      "execution_count": null,
      "outputs": [
        {
          "output_type": "stream",
          "text": [
            "Epoch 1/50\n",
            "122/122 - 34s - loss: 0.0574 - val_loss: 0.0512\n",
            "Epoch 2/50\n",
            "122/122 - 1s - loss: 0.0413 - val_loss: 0.0526\n",
            "Epoch 3/50\n",
            "122/122 - 1s - loss: 0.0258 - val_loss: 0.0485\n",
            "Epoch 4/50\n",
            "122/122 - 1s - loss: 0.0183 - val_loss: 0.0452\n",
            "Epoch 5/50\n",
            "122/122 - 1s - loss: 0.0163 - val_loss: 0.0295\n",
            "Epoch 6/50\n",
            "122/122 - 1s - loss: 0.0151 - val_loss: 0.0208\n",
            "Epoch 7/50\n",
            "122/122 - 1s - loss: 0.0148 - val_loss: 0.0186\n",
            "Epoch 8/50\n",
            "122/122 - 1s - loss: 0.0146 - val_loss: 0.0172\n",
            "Epoch 9/50\n",
            "122/122 - 1s - loss: 0.0146 - val_loss: 0.0163\n",
            "Epoch 10/50\n",
            "122/122 - 1s - loss: 0.0147 - val_loss: 0.0162\n",
            "Epoch 11/50\n",
            "122/122 - 1s - loss: 0.0146 - val_loss: 0.0158\n",
            "Epoch 12/50\n",
            "122/122 - 1s - loss: 0.0146 - val_loss: 0.0154\n",
            "Epoch 13/50\n",
            "122/122 - 1s - loss: 0.0146 - val_loss: 0.0150\n",
            "Epoch 14/50\n",
            "122/122 - 1s - loss: 0.0146 - val_loss: 0.0144\n",
            "Epoch 15/50\n",
            "122/122 - 1s - loss: 0.0145 - val_loss: 0.0143\n",
            "Epoch 16/50\n",
            "122/122 - 1s - loss: 0.0144 - val_loss: 0.0140\n",
            "Epoch 17/50\n",
            "122/122 - 1s - loss: 0.0146 - val_loss: 0.0139\n",
            "Epoch 18/50\n",
            "122/122 - 1s - loss: 0.0145 - val_loss: 0.0139\n",
            "Epoch 19/50\n",
            "122/122 - 1s - loss: 0.0145 - val_loss: 0.0141\n",
            "Epoch 20/50\n",
            "122/122 - 1s - loss: 0.0145 - val_loss: 0.0138\n",
            "Epoch 21/50\n",
            "122/122 - 1s - loss: 0.0145 - val_loss: 0.0139\n",
            "Epoch 22/50\n",
            "122/122 - 1s - loss: 0.0146 - val_loss: 0.0136\n",
            "Epoch 23/50\n",
            "122/122 - 1s - loss: 0.0144 - val_loss: 0.0138\n",
            "Epoch 24/50\n",
            "122/122 - 1s - loss: 0.0145 - val_loss: 0.0137\n",
            "Epoch 25/50\n",
            "122/122 - 1s - loss: 0.0144 - val_loss: 0.0141\n",
            "Epoch 26/50\n",
            "122/122 - 1s - loss: 0.0144 - val_loss: 0.0140\n",
            "Epoch 27/50\n",
            "122/122 - 1s - loss: 0.0145 - val_loss: 0.0136\n",
            "Epoch 28/50\n",
            "122/122 - 1s - loss: 0.0143 - val_loss: 0.0138\n",
            "Epoch 29/50\n",
            "122/122 - 1s - loss: 0.0145 - val_loss: 0.0137\n",
            "Epoch 30/50\n",
            "122/122 - 1s - loss: 0.0145 - val_loss: 0.0135\n",
            "Epoch 31/50\n",
            "122/122 - 1s - loss: 0.0144 - val_loss: 0.0136\n",
            "Epoch 32/50\n",
            "122/122 - 1s - loss: 0.0144 - val_loss: 0.0136\n",
            "Epoch 33/50\n",
            "122/122 - 1s - loss: 0.0144 - val_loss: 0.0136\n",
            "Epoch 34/50\n",
            "122/122 - 1s - loss: 0.0144 - val_loss: 0.0136\n",
            "Epoch 35/50\n",
            "122/122 - 1s - loss: 0.0144 - val_loss: 0.0135\n",
            "Epoch 36/50\n",
            "122/122 - 1s - loss: 0.0145 - val_loss: 0.0134\n",
            "Epoch 37/50\n",
            "122/122 - 1s - loss: 0.0144 - val_loss: 0.0135\n",
            "Epoch 38/50\n",
            "122/122 - 1s - loss: 0.0145 - val_loss: 0.0134\n",
            "Epoch 39/50\n",
            "122/122 - 1s - loss: 0.0144 - val_loss: 0.0134\n",
            "Epoch 40/50\n",
            "122/122 - 1s - loss: 0.0144 - val_loss: 0.0134\n",
            "Epoch 41/50\n",
            "122/122 - 1s - loss: 0.0144 - val_loss: 0.0134\n",
            "Epoch 42/50\n",
            "122/122 - 1s - loss: 0.0144 - val_loss: 0.0134\n",
            "Epoch 43/50\n",
            "122/122 - 1s - loss: 0.0144 - val_loss: 0.0134\n",
            "Epoch 44/50\n",
            "122/122 - 1s - loss: 0.0144 - val_loss: 0.0133\n",
            "Epoch 45/50\n",
            "122/122 - 1s - loss: 0.0144 - val_loss: 0.0134\n",
            "Epoch 46/50\n",
            "122/122 - 1s - loss: 0.0145 - val_loss: 0.0134\n",
            "Epoch 47/50\n",
            "122/122 - 1s - loss: 0.0144 - val_loss: 0.0134\n",
            "Epoch 48/50\n",
            "122/122 - 1s - loss: 0.0144 - val_loss: 0.0134\n",
            "Epoch 49/50\n",
            "122/122 - 1s - loss: 0.0144 - val_loss: 0.0134\n",
            "Epoch 50/50\n",
            "122/122 - 1s - loss: 0.0144 - val_loss: 0.0133\n"
          ],
          "name": "stdout"
        },
        {
          "output_type": "display_data",
          "data": {
            "image/png": "[encoded data removed]",
            "text/plain": [
              "<Figure size 432x288 with 1 Axes>"
            ]
          },
          "metadata": {
            "tags": [],
            "needs_background": "light"
          }
        }
      ]
    },
    {
      "cell_type": "markdown",
      "metadata": {
        "id": "6FIl6W6fR1xD"
      },
      "source": [
        "Evaluation\n",
        "----"
      ]
    },
    {
      "cell_type": "code",
      "metadata": {
        "id": "pxV4v56a1y4Y",
        "colab": {
          "base_uri": "https://localhost:8080/"
        },
        "outputId": "d188555f-4c92-4dc3-8085-4c2fb725f3ca"
      },
      "source": [
        "...\n",
        "# make a prediction\n",
        "yhat = model.predict(test_X)\n",
        "test_X = test_X.reshape((test_X.shape[0], test_X.shape[2]))\n",
        "# invert scaling for forecast\n",
        "inv_yhat = concatenate((yhat, test_X[:, 1:]), axis=1)\n",
        "inv_yhat = scaler.inverse_transform(inv_yhat)\n",
        "inv_yhat = inv_yhat[:,0]\n",
        "# invert scaling for actual\n",
        "test_y = test_y.reshape((len(test_y), 1))\n",
        "inv_y = concatenate((test_y, test_X[:, 1:]), axis=1)\n",
        "inv_y = scaler.inverse_transform(inv_y)\n",
        "inv_y = inv_y[:,0]\n",
        "# calculate RMSE\n",
        "rmse = sqrt(mean_squared_error(inv_y, inv_yhat))\n",
        "print('Test RMSE: %.3f' % rmse)"
      ],
      "execution_count": null,
      "outputs": [
        {
          "output_type": "stream",
          "text": [
            "Test RMSE: 26.434\n"
          ],
          "name": "stdout"
        }
      ]
    },
    {
      "cell_type": "markdown",
      "metadata": {
        "id": "S4l7p3EWKkdn"
      },
      "source": [
        "Multiple Lag Timestep Version\n",
        "----"
      ]
    },
    {
      "cell_type": "code",
      "metadata": {
        "id": "v8kEXr3117oI",
        "colab": {
          "base_uri": "https://localhost:8080/"
        },
        "outputId": "7dea076e-6835-42f1-ba68-f04d70e57707"
      },
      "source": [
        "# load dataset\n",
        "dataset = read_csv('pollution.csv', header=0, index_col=0)\n",
        "values = dataset.values\n",
        "# integer encode direction\n",
        "encoder = LabelEncoder()\n",
        "values[:,4] = encoder.fit_transform(values[:,4])\n",
        "# ensure all data is float\n",
        "values = values.astype('float32')\n",
        "# normalize features\n",
        "scaler = MinMaxScaler(feature_range=(0, 1))\n",
        "scaled = scaler.fit_transform(values)\n",
        "\n",
        "#### \n",
        "# specify the number of lag hours\n",
        "n_hours = 3 # Previously = 1\n",
        "n_features = 8\n",
        "# frame as supervised learning\n",
        "reframed = series_to_supervised(scaled, n_hours, 1)\n",
        "print(reframed.shape)\n",
        "####"
      ],
      "execution_count": null,
      "outputs": [
        {
          "output_type": "stream",
          "text": [
            "(43797, 32)\n"
          ],
          "name": "stdout"
        }
      ]
    },
    {
      "cell_type": "code",
      "metadata": {
        "id": "ray-pnhx18wJ",
        "colab": {
          "base_uri": "https://localhost:8080/"
        },
        "outputId": "d5e27a0e-e2e2-441e-a38f-582488aaa0e1"
      },
      "source": [
        "# split into train and test sets\n",
        "values = reframed.values\n",
        "n_train_hours = 365 * 24\n",
        "train = values[:n_train_hours, :]\n",
        "test = values[n_train_hours:, :]\n",
        "\n",
        "####\n",
        "# split into input and outputs\n",
        "n_obs = n_hours * n_features\n",
        "train_X, train_y = train[:, :n_obs], train[:, -n_features]\n",
        "test_X, test_y = test[:, :n_obs], test[:, -n_features]\n",
        "print(train_X.shape, len(train_X), train_y.shape)\n",
        "\n",
        "# reshape input to be 3D [samples, timesteps, features]\n",
        "train_X = train_X.reshape((train_X.shape[0], n_hours, n_features))\n",
        "test_X = test_X.reshape((test_X.shape[0], n_hours, n_features))\n",
        "print(train_X.shape, train_y.shape, test_X.shape, test_y.shape)\n",
        "####"
      ],
      "execution_count": null,
      "outputs": [
        {
          "output_type": "stream",
          "text": [
            "(8760, 24) 8760 (8760,)\n",
            "(8760, 3, 8) (8760,) (35037, 3, 8) (35037,)\n"
          ],
          "name": "stdout"
        }
      ]
    },
    {
      "cell_type": "code",
      "metadata": {
        "id": "WpJwUHSH2C5N",
        "colab": {
          "base_uri": "https://localhost:8080/",
          "height": 1000
        },
        "outputId": "71792e43-91e5-46a9-9f68-abe799fc0abf"
      },
      "source": [
        "# design network\n",
        "model = Sequential()\n",
        "model.add(LSTM(50, input_shape=(train_X.shape[1], train_X.shape[2])))\n",
        "model.add(Dense(1))\n",
        "model.compile(loss='mae', optimizer='adam')\n",
        "# fit network\n",
        "history = model.fit(train_X, train_y, epochs=50, batch_size=72, validation_data=(test_X, test_y), verbose=2, shuffle=False)\n",
        "# plot history\n",
        "pyplot.plot(history.history['loss'], label='train')\n",
        "pyplot.plot(history.history['val_loss'], label='test')\n",
        "pyplot.legend()\n",
        "pyplot.show()"
      ],
      "execution_count": null,
      "outputs": [
        {
          "output_type": "stream",
          "text": [
            "Epoch 1/50\n",
            "122/122 - 2s - loss: 0.0482 - val_loss: 0.0619\n",
            "Epoch 2/50\n",
            "122/122 - 1s - loss: 0.0251 - val_loss: 0.0430\n",
            "Epoch 3/50\n",
            "122/122 - 1s - loss: 0.0223 - val_loss: 0.0290\n",
            "Epoch 4/50\n",
            "122/122 - 1s - loss: 0.0214 - val_loss: 0.0278\n",
            "Epoch 5/50\n",
            "122/122 - 1s - loss: 0.0211 - val_loss: 0.0239\n",
            "Epoch 6/50\n",
            "122/122 - 1s - loss: 0.0200 - val_loss: 0.0218\n",
            "Epoch 7/50\n",
            "122/122 - 1s - loss: 0.0201 - val_loss: 0.0200\n",
            "Epoch 8/50\n",
            "122/122 - 1s - loss: 0.0194 - val_loss: 0.0187\n",
            "Epoch 9/50\n",
            "122/122 - 1s - loss: 0.0189 - val_loss: 0.0186\n",
            "Epoch 10/50\n",
            "122/122 - 1s - loss: 0.0183 - val_loss: 0.0182\n",
            "Epoch 11/50\n",
            "122/122 - 1s - loss: 0.0180 - val_loss: 0.0175\n",
            "Epoch 12/50\n",
            "122/122 - 1s - loss: 0.0174 - val_loss: 0.0176\n",
            "Epoch 13/50\n",
            "122/122 - 1s - loss: 0.0172 - val_loss: 0.0172\n",
            "Epoch 14/50\n",
            "122/122 - 1s - loss: 0.0167 - val_loss: 0.0174\n",
            "Epoch 15/50\n",
            "122/122 - 1s - loss: 0.0164 - val_loss: 0.0172\n",
            "Epoch 16/50\n",
            "122/122 - 1s - loss: 0.0158 - val_loss: 0.0175\n",
            "Epoch 17/50\n",
            "122/122 - 1s - loss: 0.0156 - val_loss: 0.0175\n",
            "Epoch 18/50\n",
            "122/122 - 1s - loss: 0.0155 - val_loss: 0.0180\n",
            "Epoch 19/50\n",
            "122/122 - 1s - loss: 0.0151 - val_loss: 0.0181\n",
            "Epoch 20/50\n",
            "122/122 - 1s - loss: 0.0150 - val_loss: 0.0177\n",
            "Epoch 21/50\n",
            "122/122 - 1s - loss: 0.0151 - val_loss: 0.0176\n",
            "Epoch 22/50\n",
            "122/122 - 1s - loss: 0.0148 - val_loss: 0.0172\n",
            "Epoch 23/50\n",
            "122/122 - 1s - loss: 0.0148 - val_loss: 0.0173\n",
            "Epoch 24/50\n",
            "122/122 - 1s - loss: 0.0146 - val_loss: 0.0177\n",
            "Epoch 25/50\n",
            "122/122 - 1s - loss: 0.0146 - val_loss: 0.0169\n",
            "Epoch 26/50\n",
            "122/122 - 1s - loss: 0.0146 - val_loss: 0.0164\n",
            "Epoch 27/50\n",
            "122/122 - 1s - loss: 0.0146 - val_loss: 0.0162\n",
            "Epoch 28/50\n",
            "122/122 - 1s - loss: 0.0145 - val_loss: 0.0161\n",
            "Epoch 29/50\n",
            "122/122 - 1s - loss: 0.0145 - val_loss: 0.0161\n",
            "Epoch 30/50\n",
            "122/122 - 1s - loss: 0.0145 - val_loss: 0.0156\n",
            "Epoch 31/50\n",
            "122/122 - 1s - loss: 0.0145 - val_loss: 0.0154\n",
            "Epoch 32/50\n",
            "122/122 - 1s - loss: 0.0144 - val_loss: 0.0162\n",
            "Epoch 33/50\n",
            "122/122 - 1s - loss: 0.0145 - val_loss: 0.0157\n",
            "Epoch 34/50\n",
            "122/122 - 1s - loss: 0.0144 - val_loss: 0.0151\n",
            "Epoch 35/50\n",
            "122/122 - 1s - loss: 0.0144 - val_loss: 0.0152\n",
            "Epoch 36/50\n",
            "122/122 - 1s - loss: 0.0144 - val_loss: 0.0146\n",
            "Epoch 37/50\n",
            "122/122 - 1s - loss: 0.0143 - val_loss: 0.0149\n",
            "Epoch 38/50\n",
            "122/122 - 1s - loss: 0.0143 - val_loss: 0.0146\n",
            "Epoch 39/50\n",
            "122/122 - 1s - loss: 0.0143 - val_loss: 0.0148\n",
            "Epoch 40/50\n",
            "122/122 - 1s - loss: 0.0144 - val_loss: 0.0146\n",
            "Epoch 41/50\n",
            "122/122 - 1s - loss: 0.0142 - val_loss: 0.0140\n",
            "Epoch 42/50\n",
            "122/122 - 1s - loss: 0.0143 - val_loss: 0.0145\n",
            "Epoch 43/50\n",
            "122/122 - 1s - loss: 0.0142 - val_loss: 0.0141\n",
            "Epoch 44/50\n",
            "122/122 - 1s - loss: 0.0142 - val_loss: 0.0147\n",
            "Epoch 45/50\n",
            "122/122 - 1s - loss: 0.0144 - val_loss: 0.0144\n",
            "Epoch 46/50\n",
            "122/122 - 1s - loss: 0.0143 - val_loss: 0.0143\n",
            "Epoch 47/50\n",
            "122/122 - 1s - loss: 0.0144 - val_loss: 0.0139\n",
            "Epoch 48/50\n",
            "122/122 - 1s - loss: 0.0143 - val_loss: 0.0140\n",
            "Epoch 49/50\n",
            "122/122 - 1s - loss: 0.0145 - val_loss: 0.0142\n",
            "Epoch 50/50\n",
            "122/122 - 1s - loss: 0.0145 - val_loss: 0.0139\n"
          ],
          "name": "stdout"
        },
        {
          "output_type": "display_data",
          "data": {
            "image/png": "[encoded data removed]",
            "text/plain": [
              "<Figure size 432x288 with 1 Axes>"
            ]
          },
          "metadata": {
            "tags": [],
            "needs_background": "light"
          }
        }
      ]
    },
    {
      "cell_type": "code",
      "metadata": {
        "id": "513foFC72Jsq"
      },
      "source": [
        "# make a prediction\n",
        "yhat = model.predict(test_X)\n",
        "test_X = test_X.reshape((test_X.shape[0], n_hours*n_features))\n",
        "\n",
        "####\n",
        "# invert scaling for forecast\n",
        "inv_yhat = concatenate((yhat, test_X[:, -7:]), axis=1)\n",
        "inv_yhat = scaler.inverse_transform(inv_yhat)\n",
        "inv_yhat = inv_yhat[:,0]\n",
        "# invert scaling for actual\n",
        "test_y = test_y.reshape((len(test_y), 1))\n",
        "inv_y = concatenate((test_y, test_X[:, -7:]), axis=1)\n",
        "inv_y = scaler.inverse_transform(inv_y)\n",
        "inv_y = inv_y[:,0]\n",
        "####\n",
        "\n",
        "# calculate RMSE\n",
        "rmse = sqrt(mean_squared_error(inv_y, inv_yhat))\n",
        "print('Test RMSE: %.3f' % rmse)"
      ],
      "execution_count": null,
      "outputs": []
    },
    {
      "cell_type": "markdown",
      "metadata": {
        "id": "Gvm2fpwKMh4z"
      },
      "source": [
        "End of Demo\n",
        "----\n",
        "Credit to:\n",
        "https://machinelearningmastery.com/multivariate-time-series-forecasting-lstms-keras/"
      ]
    }
  ]
}