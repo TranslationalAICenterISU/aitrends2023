{
 "cells": [
  {
   "cell_type": "code",
   "execution_count": 1,
   "metadata": {
    "executionInfo": {
     "elapsed": 189,
     "status": "ok",
     "timestamp": 1644531543821,
     "user": {
      "displayName": "Xian Yeow Lee",
      "photoUrl": "https://lh3.googleusercontent.com/a/default-user=s64",
      "userId": "08513540661440261081"
     },
     "user_tz": 360
    },
    "id": "Rdsu8J099fTm"
   },
   "outputs": [],
   "source": [
    "import numpy as np"
   ]
  },
  {
   "cell_type": "code",
   "execution_count": 2,
   "metadata": {
    "executionInfo": {
     "elapsed": 192,
     "status": "ok",
     "timestamp": 1644531546980,
     "user": {
      "displayName": "Xian Yeow Lee",
      "photoUrl": "https://lh3.googleusercontent.com/a/default-user=s64",
      "userId": "08513540661440261081"
     },
     "user_tz": 360
    },
    "id": "qahcate49480"
   },
   "outputs": [],
   "source": [
    "x = np.linspace(0.0, 100, 500)\n",
    "# lets say the slope of the line we want to fit is 3.5 and intercept is 20 and lets add a little noise to the data\n",
    "y = 3.5*x + 20 + 0.1*np.random.normal(0,5,size=500)\n",
    "# y = 3.5*x + 20"
   ]
  },
  {
   "cell_type": "code",
   "execution_count": 3,
   "metadata": {
    "executionInfo": {
     "elapsed": 188,
     "status": "ok",
     "timestamp": 1644531571747,
     "user": {
      "displayName": "Xian Yeow Lee",
      "photoUrl": "https://lh3.googleusercontent.com/a/default-user=s64",
      "userId": "08513540661440261081"
     },
     "user_tz": 360
    },
    "id": "r_jTqbc2AHJ3"
   },
   "outputs": [],
   "source": [
    "import matplotlib.pyplot as plt\n"
   ]
  },
  {
   "cell_type": "code",
   "execution_count": 4,
   "metadata": {
    "colab": {
     "base_uri": "https://localhost:8080/",
     "height": 279
    },
    "executionInfo": {
     "elapsed": 432,
     "status": "ok",
     "timestamp": 1644531572980,
     "user": {
      "displayName": "Xian Yeow Lee",
      "photoUrl": "https://lh3.googleusercontent.com/a/default-user=s64",
      "userId": "08513540661440261081"
     },
     "user_tz": 360
    },
    "id": "0BoCTZTpAH5H",
    "outputId": "98ff11a0-2889-41b8-a0f3-ecd9a33f942b"
   },
   "outputs": [
    {
     "data": {
      "image/png": "[encoded data removed]",
      "text/plain": [
       "<Figure size 432x288 with 1 Axes>"
      ]
     },
     "metadata": {
      "needs_background": "light"
     },
     "output_type": "display_data"
    }
   ],
   "source": [
    "plt.scatter(x,y,s=0.1)\n",
    "plt.ylabel('y')\n",
    "plt.xlabel('x')\n",
    "plt.show()"
   ]
  },
  {
   "cell_type": "code",
   "execution_count": 5,
   "metadata": {
    "colab": {
     "base_uri": "https://localhost:8080/"
    },
    "executionInfo": {
     "elapsed": 186,
     "status": "ok",
     "timestamp": 1644531608360,
     "user": {
      "displayName": "Xian Yeow Lee",
      "photoUrl": "https://lh3.googleusercontent.com/a/default-user=s64",
      "userId": "08513540661440261081"
     },
     "user_tz": 360
    },
    "id": "f3aTwxMRAb5R",
    "outputId": "557a797f-63ed-49e4-b629-2d44dc17676f"
   },
   "outputs": [
    {
     "name": "stdout",
     "output_type": "stream",
     "text": [
      "0.5559727089654367 0.01309349676033178\n"
     ]
    }
   ],
   "source": [
    "# Lets initialize the two parameters we would like to use for the optimization\n",
    "theta0 = np.random.rand()\n",
    "theta1 = np.random.rand()\n",
    "print(theta0, theta1)"
   ]
  },
  {
   "cell_type": "code",
   "execution_count": 6,
   "metadata": {
    "colab": {
     "base_uri": "https://localhost:8080/"
    },
    "executionInfo": {
     "elapsed": 210,
     "status": "ok",
     "timestamp": 1644531631032,
     "user": {
      "displayName": "Xian Yeow Lee",
      "photoUrl": "https://lh3.googleusercontent.com/a/default-user=s64",
      "userId": "08513540661440261081"
     },
     "user_tz": 360
    },
    "id": "JGE_u1R0BPyH",
    "outputId": "d773366d-8bbb-4bbe-8285-c2930b0e9b80"
   },
   "outputs": [
    {
     "name": "stdout",
     "output_type": "stream",
     "text": [
      "MSE: 35211.18420561685\n"
     ]
    }
   ],
   "source": [
    "y_pred = theta0*x + theta1\n",
    "J = np.mean((y_pred - y)**2)\n",
    "print('MSE:',J)"
   ]
  },
  {
   "cell_type": "code",
   "execution_count": 7,
   "metadata": {
    "colab": {
     "base_uri": "https://localhost:8080/",
     "height": 279
    },
    "executionInfo": {
     "elapsed": 502,
     "status": "ok",
     "timestamp": 1644531658427,
     "user": {
      "displayName": "Xian Yeow Lee",
      "photoUrl": "https://lh3.googleusercontent.com/a/default-user=s64",
      "userId": "08513540661440261081"
     },
     "user_tz": 360
    },
    "id": "LQzgaAVbp_BV",
    "outputId": "7143ea14-3f19-4aef-e1a7-5866d30eeae8"
   },
   "outputs": [
    {
     "data": {
      "image/png": "[encoded data removed]",
      "text/plain": [
       "<Figure size 432x288 with 1 Axes>"
      ]
     },
     "metadata": {
      "needs_background": "light"
     },
     "output_type": "display_data"
    }
   ],
   "source": [
    "plt.scatter(x,y,s=0.1, label='True')\n",
    "plt.scatter(x,y_pred,s=0.1, label='Predictions')\n",
    "plt.ylabel('y')\n",
    "plt.xlabel('x')\n",
    "plt.legend()\n",
    "plt.show()"
   ]
  },
  {
   "cell_type": "code",
   "execution_count": 8,
   "metadata": {
    "executionInfo": {
     "elapsed": 191,
     "status": "ok",
     "timestamp": 1644531680518,
     "user": {
      "displayName": "Xian Yeow Lee",
      "photoUrl": "https://lh3.googleusercontent.com/a/default-user=s64",
      "userId": "08513540661440261081"
     },
     "user_tz": 360
    },
    "id": "qFnSs73GBZe1"
   },
   "outputs": [],
   "source": [
    "import torch"
   ]
  },
  {
   "cell_type": "code",
   "execution_count": 9,
   "metadata": {
    "colab": {
     "base_uri": "https://localhost:8080/"
    },
    "executionInfo": {
     "elapsed": 176,
     "status": "ok",
     "timestamp": 1644531722027,
     "user": {
      "displayName": "Xian Yeow Lee",
      "photoUrl": "https://lh3.googleusercontent.com/a/default-user=s64",
      "userId": "08513540661440261081"
     },
     "user_tz": 360
    },
    "id": "MDPEMx9pC39n",
    "outputId": "56a6ad71-cc09-4fba-9ae3-53648194259d"
   },
   "outputs": [
    {
     "name": "stdout",
     "output_type": "stream",
     "text": [
      "(500,) float64\n",
      "torch.Size([500]) torch.float64\n",
      "(500,) float64\n",
      "torch.Size([500]) torch.float64\n"
     ]
    }
   ],
   "source": [
    "print(x.shape, x.dtype)\n",
    "x = torch.tensor(x, requires_grad=True)\n",
    "print(x.shape, x.dtype)\n",
    "y_target = torch.tensor(y, requires_grad=True)\n",
    "print(y.shape, y.dtype)\n",
    "print(y_target.shape, y_target.dtype)"
   ]
  },
  {
   "cell_type": "code",
   "execution_count": 10,
   "metadata": {
    "colab": {
     "base_uri": "https://localhost:8080/"
    },
    "executionInfo": {
     "elapsed": 194,
     "status": "ok",
     "timestamp": 1644531792837,
     "user": {
      "displayName": "Xian Yeow Lee",
      "photoUrl": "https://lh3.googleusercontent.com/a/default-user=s64",
      "userId": "08513540661440261081"
     },
     "user_tz": 360
    },
    "id": "w3eTKQMwDBSf",
    "outputId": "d6c0284e-d770-4073-f58a-1b764c8bddaf"
   },
   "outputs": [
    {
     "name": "stdout",
     "output_type": "stream",
     "text": [
      "torch.Size([1]) torch.Size([1])\n",
      "tensor([0.6020], requires_grad=True) tensor([0.7664], requires_grad=True)\n"
     ]
    }
   ],
   "source": [
    "theta0 = torch.rand(1,requires_grad=True)\n",
    "theta1 = torch.rand(1,requires_grad=True)\n",
    "print(theta0.shape, theta1.shape)\n",
    "print(theta0, theta1)"
   ]
  },
  {
   "cell_type": "code",
   "execution_count": 11,
   "metadata": {
    "colab": {
     "base_uri": "https://localhost:8080/"
    },
    "executionInfo": {
     "elapsed": 187,
     "status": "ok",
     "timestamp": 1644531813863,
     "user": {
      "displayName": "Xian Yeow Lee",
      "photoUrl": "https://lh3.googleusercontent.com/a/default-user=s64",
      "userId": "08513540661440261081"
     },
     "user_tz": 360
    },
    "id": "fys5A_phrnWx",
    "outputId": "e9a482be-08f4-4e1b-f03e-24f80e1bbea5"
   },
   "outputs": [
    {
     "data": {
      "text/plain": [
       "(None, None, None)"
      ]
     },
     "execution_count": 11,
     "metadata": {},
     "output_type": "execute_result"
    }
   ],
   "source": [
    "x.grad, theta0.grad, theta1.grad"
   ]
  },
  {
   "cell_type": "code",
   "execution_count": 12,
   "metadata": {
    "executionInfo": {
     "elapsed": 199,
     "status": "ok",
     "timestamp": 1644531847539,
     "user": {
      "displayName": "Xian Yeow Lee",
      "photoUrl": "https://lh3.googleusercontent.com/a/default-user=s64",
      "userId": "08513540661440261081"
     },
     "user_tz": 360
    },
    "id": "amDq9GHNDM5Q"
   },
   "outputs": [],
   "source": [
    "y_pred = theta0*x + theta1"
   ]
  },
  {
   "cell_type": "code",
   "execution_count": 13,
   "metadata": {
    "executionInfo": {
     "elapsed": 195,
     "status": "ok",
     "timestamp": 1644532068722,
     "user": {
      "displayName": "Xian Yeow Lee",
      "photoUrl": "https://lh3.googleusercontent.com/a/default-user=s64",
      "userId": "08513540661440261081"
     },
     "user_tz": 360
    },
    "id": "VHIIzKn1Dh_q"
   },
   "outputs": [],
   "source": [
    "J = torch.mean((y_pred - y_target)**2)"
   ]
  },
  {
   "cell_type": "code",
   "execution_count": 14,
   "metadata": {
    "colab": {
     "base_uri": "https://localhost:8080/",
     "height": 398
    },
    "executionInfo": {
     "elapsed": 196,
     "status": "error",
     "timestamp": 1644532069748,
     "user": {
      "displayName": "Xian Yeow Lee",
      "photoUrl": "https://lh3.googleusercontent.com/a/default-user=s64",
      "userId": "08513540661440261081"
     },
     "user_tz": 360
    },
    "id": "Duqcx4I6D3Vu",
    "outputId": "e856e4f7-d15e-4cf2-fa09-86e22cde4027"
   },
   "outputs": [],
   "source": [
    "# computes gradients with respect variables\n",
    "J.backward()"
   ]
  },
  {
   "cell_type": "code",
   "execution_count": 15,
   "metadata": {
    "colab": {
     "base_uri": "https://localhost:8080/"
    },
    "executionInfo": {
     "elapsed": 182,
     "status": "ok",
     "timestamp": 1644532076695,
     "user": {
      "displayName": "Xian Yeow Lee",
      "photoUrl": "https://lh3.googleusercontent.com/a/default-user=s64",
      "userId": "08513540661440261081"
     },
     "user_tz": 360
    },
    "id": "QnMCnH6gD5J3",
    "outputId": "eeb374f4-611d-48ea-d8a3-97f7c53ff210"
   },
   "outputs": [
    {
     "data": {
      "text/plain": [
       "(tensor([-21264.8633]), tensor([-328.3037]))"
      ]
     },
     "execution_count": 15,
     "metadata": {},
     "output_type": "execute_result"
    }
   ],
   "source": [
    "theta0.grad, theta1.grad"
   ]
  },
  {
   "cell_type": "code",
   "execution_count": 16,
   "metadata": {
    "colab": {
     "base_uri": "https://localhost:8080/"
    },
    "executionInfo": {
     "elapsed": 178,
     "status": "ok",
     "timestamp": 1644532100377,
     "user": {
      "displayName": "Xian Yeow Lee",
      "photoUrl": "https://lh3.googleusercontent.com/a/default-user=s64",
      "userId": "08513540661440261081"
     },
     "user_tz": 360
    },
    "id": "kRKcmwYerKm6",
    "outputId": "e0928f74-a2db-410f-cb0f-8fe6cf3d81d5"
   },
   "outputs": [
    {
     "data": {
      "text/plain": [
       "torch.Size([500])"
      ]
     },
     "execution_count": 16,
     "metadata": {},
     "output_type": "execute_result"
    }
   ],
   "source": [
    "x.grad.shape"
   ]
  },
  {
   "cell_type": "code",
   "execution_count": 17,
   "metadata": {
    "executionInfo": {
     "elapsed": 18014,
     "status": "ok",
     "timestamp": 1644532218015,
     "user": {
      "displayName": "Xian Yeow Lee",
      "photoUrl": "https://lh3.googleusercontent.com/a/default-user=s64",
      "userId": "08513540661440261081"
     },
     "user_tz": 360
    },
    "id": "Uus1253nD62W"
   },
   "outputs": [],
   "source": [
    "# Batch gradient descent\n",
    "lr = 1E-4\n",
    "iters = 100000\n",
    "losses = []\n",
    "theta0 = torch.rand(1,requires_grad=True)\n",
    "theta1 = torch.rand(1,requires_grad=True)\n",
    "for i in range(iters):\n",
    "    y_pred = theta0*x + theta1\n",
    "    J = torch.mean((y_pred - y_target)**2)\n",
    "    J.backward()\n",
    "    # use torch.no_grad to prevent gradient accumulation\n",
    "    with torch.no_grad():\n",
    "        theta0 -= theta0.grad*lr\n",
    "        theta1 -= theta1.grad*lr\n",
    "    theta0.grad.zero_()\n",
    "    theta1.grad.zero_()\n",
    "    losses.append(J.item())"
   ]
  },
  {
   "cell_type": "code",
   "execution_count": 18,
   "metadata": {
    "colab": {
     "base_uri": "https://localhost:8080/",
     "height": 296
    },
    "executionInfo": {
     "elapsed": 862,
     "status": "ok",
     "timestamp": 1644526252059,
     "user": {
      "displayName": "Xian Yeow Lee",
      "photoUrl": "https://lh3.googleusercontent.com/a/default-user=s64",
      "userId": "08513540661440261081"
     },
     "user_tz": 360
    },
    "id": "XQnb7o82EyqC",
    "outputId": "70e66737-a859-42f8-80ce-44b8c317a525"
   },
   "outputs": [
    {
     "data": {
      "text/plain": [
       "Text(0.5, 0, 'Iterations')"
      ]
     },
     "execution_count": 18,
     "metadata": {},
     "output_type": "execute_result"
    },
    {
     "data": {
      "image/png": "[encoded data removed]",
      "text/plain": [
       "<Figure size 432x288 with 1 Axes>"
      ]
     },
     "metadata": {
      "needs_background": "light"
     },
     "output_type": "display_data"
    }
   ],
   "source": [
    "plt.plot(np.arange(iters), losses)\n",
    "plt.ylabel('Loss')\n",
    "plt.yscale(\"log\")\n",
    "plt.xlabel('Iterations')"
   ]
  },
  {
   "cell_type": "code",
   "execution_count": 19,
   "metadata": {
    "colab": {
     "base_uri": "https://localhost:8080/"
    },
    "executionInfo": {
     "elapsed": 203,
     "status": "ok",
     "timestamp": 1644532411225,
     "user": {
      "displayName": "Xian Yeow Lee",
      "photoUrl": "https://lh3.googleusercontent.com/a/default-user=s64",
      "userId": "08513540661440261081"
     },
     "user_tz": 360
    },
    "id": "Ol4FnYUTFi3y",
    "outputId": "c58eae6c-2e37-49df-a672-d9f172797c2b"
   },
   "outputs": [
    {
     "name": "stdout",
     "output_type": "stream",
     "text": [
      "tensor([3.5021], requires_grad=True) tensor([19.8819], requires_grad=True)\n"
     ]
    }
   ],
   "source": [
    "print(theta0, theta1)"
   ]
  },
  {
   "cell_type": "code",
   "execution_count": 20,
   "metadata": {
    "colab": {
     "base_uri": "https://localhost:8080/",
     "height": 279
    },
    "executionInfo": {
     "elapsed": 204,
     "status": "ok",
     "timestamp": 1644532433169,
     "user": {
      "displayName": "Xian Yeow Lee",
      "photoUrl": "https://lh3.googleusercontent.com/a/default-user=s64",
      "userId": "08513540661440261081"
     },
     "user_tz": 360
    },
    "id": "3-9-jvaQGNKQ",
    "outputId": "56a21ea3-79fa-4363-90fb-561dd97f525b"
   },
   "outputs": [
    {
     "data": {
      "image/png": "[encoded data removed]",
      "text/plain": [
       "<Figure size 432x288 with 1 Axes>"
      ]
     },
     "metadata": {
      "needs_background": "light"
     },
     "output_type": "display_data"
    }
   ],
   "source": [
    "plt.scatter(x.detach().numpy(), y_pred.detach().numpy())\n",
    "plt.scatter(x.detach().numpy(), y_target.detach().numpy())\n",
    "plt.xlabel('x')\n",
    "plt.ylabel('y')\n",
    "plt.show()"
   ]
  },
  {
   "cell_type": "code",
   "execution_count": 21,
   "metadata": {
    "id": "ShdYSewhGYgS"
   },
   "outputs": [],
   "source": [
    "#What are some disadvantages of gradient descent?"
   ]
  },
  {
   "cell_type": "markdown",
   "metadata": {
    "id": "jCdImU9AHjdv"
   },
   "source": [
    "# SGD"
   ]
  },
  {
   "cell_type": "code",
   "execution_count": 22,
   "metadata": {
    "id": "2Z3Gxx4pHlT4"
   },
   "outputs": [],
   "source": [
    "lr = 1E-4\n",
    "iters = 100000\n",
    "losses = []\n",
    "theta0 = torch.rand(1,requires_grad=True)\n",
    "theta1 = torch.rand(1,requires_grad=True)\n",
    "for i in range(iters):\n",
    "    idx = np.random.choice(np.arange(x.shape[0]))\n",
    "    y_pred = theta0*x[idx] + theta1\n",
    "    J = torch.mean((y_pred - y_target[idx])**2)\n",
    "    J.backward()\n",
    "    with torch.no_grad():\n",
    "        theta0 -= theta0.grad*lr\n",
    "        theta1 -= theta1.grad*lr\n",
    "    theta0.grad.zero_()\n",
    "    theta1.grad.zero_()\n",
    "    losses.append(J.item())"
   ]
  },
  {
   "cell_type": "code",
   "execution_count": 23,
   "metadata": {
    "colab": {
     "base_uri": "https://localhost:8080/",
     "height": 298
    },
    "executionInfo": {
     "elapsed": 694,
     "status": "ok",
     "timestamp": 1644526277276,
     "user": {
      "displayName": "Xian Yeow Lee",
      "photoUrl": "https://lh3.googleusercontent.com/a/default-user=s64",
      "userId": "08513540661440261081"
     },
     "user_tz": 360
    },
    "id": "fbWInElHH2b-",
    "outputId": "375d60fe-d9b9-473b-9591-d9a9148c6a93"
   },
   "outputs": [
    {
     "data": {
      "text/plain": [
       "Text(0.5, 0, 'Iterations')"
      ]
     },
     "execution_count": 23,
     "metadata": {},
     "output_type": "execute_result"
    },
    {
     "data": {
      "image/png": "[encoded data removed]",
      "text/plain": [
       "<Figure size 432x288 with 1 Axes>"
      ]
     },
     "metadata": {
      "needs_background": "light"
     },
     "output_type": "display_data"
    }
   ],
   "source": [
    "plt.plot(np.arange(iters), losses)\n",
    "plt.ylabel('Loss')\n",
    "plt.yscale(\"log\")\n",
    "plt.xlabel('Iterations')"
   ]
  },
  {
   "cell_type": "code",
   "execution_count": 24,
   "metadata": {
    "id": "tbQz2lxKH411"
   },
   "outputs": [],
   "source": [
    "# How do we improve upon SGD?"
   ]
  },
  {
   "cell_type": "markdown",
   "metadata": {
    "id": "wBaUjAGSIChb"
   },
   "source": [
    "# mini-batch SGD"
   ]
  },
  {
   "cell_type": "code",
   "execution_count": 25,
   "metadata": {
    "executionInfo": {
     "elapsed": 34427,
     "status": "ok",
     "timestamp": 1644532684420,
     "user": {
      "displayName": "Xian Yeow Lee",
      "photoUrl": "https://lh3.googleusercontent.com/a/default-user=s64",
      "userId": "08513540661440261081"
     },
     "user_tz": 360
    },
    "id": "om7eN95KIEPa"
   },
   "outputs": [],
   "source": [
    "lr = 1E-4\n",
    "iters = 100000\n",
    "batch_size = 16\n",
    "losses = []\n",
    "theta0 = torch.rand(1,requires_grad=True)\n",
    "theta1 = torch.rand(1,requires_grad=True)\n",
    "for i in range(iters):\n",
    "    idx = np.random.choice(np.arange(x.shape[0]), size=batch_size)\n",
    "    y_pred = theta0*x[idx] + theta1\n",
    "    J = torch.mean((y_pred - y_target[idx])**2)\n",
    "    J.backward()\n",
    "    with torch.no_grad():\n",
    "        theta0 -= theta0.grad*lr\n",
    "        theta1 -= theta1.grad*lr\n",
    "    theta0.grad.zero_()\n",
    "    theta1.grad.zero_()\n",
    "    losses.append(J.item())"
   ]
  },
  {
   "cell_type": "code",
   "execution_count": 26,
   "metadata": {
    "colab": {
     "base_uri": "https://localhost:8080/",
     "height": 302
    },
    "executionInfo": {
     "elapsed": 713,
     "status": "ok",
     "timestamp": 1644526312264,
     "user": {
      "displayName": "Xian Yeow Lee",
      "photoUrl": "https://lh3.googleusercontent.com/a/default-user=s64",
      "userId": "08513540661440261081"
     },
     "user_tz": 360
    },
    "id": "Wz_-ULmdISCn",
    "outputId": "af9f27b8-81b6-450d-f4cf-096840e47b06"
   },
   "outputs": [
    {
     "data": {
      "text/plain": [
       "Text(0.5, 0, 'Iterations')"
      ]
     },
     "execution_count": 26,
     "metadata": {},
     "output_type": "execute_result"
    },
    {
     "data": {
      "image/png": "[encoded data removed]",
      "text/plain": [
       "<Figure size 432x288 with 1 Axes>"
      ]
     },
     "metadata": {
      "needs_background": "light"
     },
     "output_type": "display_data"
    }
   ],
   "source": [
    "plt.plot(np.arange(iters), losses)\n",
    "plt.ylabel('Loss')\n",
    "plt.yscale(\"log\")\n",
    "plt.xlabel('Iterations')"
   ]
  },
  {
   "cell_type": "code",
   "execution_count": 27,
   "metadata": {
    "colab": {
     "base_uri": "https://localhost:8080/",
     "height": 282
    },
    "executionInfo": {
     "elapsed": 6,
     "status": "ok",
     "timestamp": 1644526312265,
     "user": {
      "displayName": "Xian Yeow Lee",
      "photoUrl": "https://lh3.googleusercontent.com/a/default-user=s64",
      "userId": "08513540661440261081"
     },
     "user_tz": 360
    },
    "id": "n2oM7B7eIT_A",
    "outputId": "54d7d343-7509-4da9-a562-983a3cdfa244"
   },
   "outputs": [
    {
     "name": "stdout",
     "output_type": "stream",
     "text": [
      "tensor([3.5034], requires_grad=True) tensor([19.8804], requires_grad=True)\n"
     ]
    },
    {
     "data": {
      "image/png": "[encoded data removed]",
      "text/plain": [
       "<Figure size 432x288 with 1 Axes>"
      ]
     },
     "metadata": {
      "needs_background": "light"
     },
     "output_type": "display_data"
    }
   ],
   "source": [
    "y_pred = theta0*x + theta1\n",
    "plt.scatter(x.detach().numpy(), y_pred.detach().numpy())\n",
    "plt.scatter(x.detach().numpy(), y_target.detach().numpy())\n",
    "print(theta0, theta1)"
   ]
  },
  {
   "cell_type": "markdown",
   "metadata": {
    "id": "GnpjF7XSJrh-"
   },
   "source": [
    "# Alternative approach"
   ]
  },
  {
   "cell_type": "code",
   "execution_count": 28,
   "metadata": {
    "executionInfo": {
     "elapsed": 11024,
     "status": "ok",
     "timestamp": 1644533479214,
     "user": {
      "displayName": "Xian Yeow Lee",
      "photoUrl": "https://lh3.googleusercontent.com/a/default-user=s64",
      "userId": "08513540661440261081"
     },
     "user_tz": 360
    },
    "id": "Djw5Wv5lIcDx"
   },
   "outputs": [],
   "source": [
    "lr = 1E-4\n",
    "epochs = 1000\n",
    "batch_size = 16\n",
    "losses = []\n",
    "# we can make thetas torch parameters to scale to millions of parameters\n",
    "theta0 = torch.nn.Parameter(torch.rand(1,requires_grad=True))\n",
    "theta1 = torch.nn.Parameter(torch.rand(1,requires_grad=True))\n",
    "weights = [theta0, theta1]\n",
    "opt = torch.optim.SGD(weights, lr=lr)\n",
    "idxs = np.arange(x.shape[0])\n",
    "for i in range(epochs):\n",
    "    np.random.shuffle(idxs)\n",
    "    for samp_idx in range(0,x.shape[0],batch_size):\n",
    "        if samp_idx + batch_size < x.shape[0]:\n",
    "            idx = idxs[samp_idx:samp_idx+batch_size]\n",
    "        else:\n",
    "            idx = idxs[samp_idx:]\n",
    "        opt.zero_grad()\n",
    "        y_pred = theta0*x[idx] + theta1\n",
    "        J = torch.mean((y_pred - y_target[idx])**2)\n",
    "        J.backward()\n",
    "        opt.step()\n",
    "        losses.append(J.item())"
   ]
  },
  {
   "cell_type": "code",
   "execution_count": 29,
   "metadata": {
    "colab": {
     "base_uri": "https://localhost:8080/",
     "height": 300
    },
    "executionInfo": {
     "elapsed": 701,
     "status": "ok",
     "timestamp": 1644526323640,
     "user": {
      "displayName": "Xian Yeow Lee",
      "photoUrl": "https://lh3.googleusercontent.com/a/default-user=s64",
      "userId": "08513540661440261081"
     },
     "user_tz": 360
    },
    "id": "bBVgu6XmJbzh",
    "outputId": "4fd3fd3f-f2dc-4d8e-8364-a6e81dabd576"
   },
   "outputs": [
    {
     "data": {
      "text/plain": [
       "Text(0.5, 0, 'Iterations')"
      ]
     },
     "execution_count": 29,
     "metadata": {},
     "output_type": "execute_result"
    },
    {
     "data": {
      "image/png": "[encoded data removed]",
      "text/plain": [
       "<Figure size 432x288 with 1 Axes>"
      ]
     },
     "metadata": {
      "needs_background": "light"
     },
     "output_type": "display_data"
    }
   ],
   "source": [
    "\n",
    "plt.plot(np.arange(len(losses)), losses)\n",
    "plt.ylabel('Loss')\n",
    "plt.yscale(\"log\")\n",
    "plt.xlabel('Iterations')"
   ]
  },
  {
   "cell_type": "markdown",
   "metadata": {
    "id": "aSmhaO3kMtZ-"
   },
   "source": [
    "#Add momentum"
   ]
  },
  {
   "cell_type": "code",
   "execution_count": 30,
   "metadata": {
    "id": "sorOqt6RKBzc"
   },
   "outputs": [],
   "source": [
    "lr = 1E-4\n",
    "momentum = 0.9\n",
    "iters = 100000\n",
    "batch_size = 16\n",
    "losses = []\n",
    "theta0 = torch.nn.Parameter(torch.rand(1,requires_grad=True))\n",
    "theta1 = torch.nn.Parameter(torch.rand(1,requires_grad=True))\n",
    "weights = [theta0, theta1]\n",
    "opt = torch.optim.SGD(weights, lr=lr, momentum=momentum)\n",
    "for i in range(iters):\n",
    "    idx = np.random.choice(np.arange(x.shape[0]), size=batch_size)\n",
    "    opt.zero_grad()\n",
    "    y_pred = theta0*x[idx] + theta1\n",
    "    J = torch.mean((y_pred - y_target[idx])**2)\n",
    "    J.backward()\n",
    "    opt.step()\n",
    "    losses.append(J.item())"
   ]
  },
  {
   "cell_type": "code",
   "execution_count": 31,
   "metadata": {
    "colab": {
     "base_uri": "https://localhost:8080/",
     "height": 296
    },
    "executionInfo": {
     "elapsed": 679,
     "status": "ok",
     "timestamp": 1644526374091,
     "user": {
      "displayName": "Xian Yeow Lee",
      "photoUrl": "https://lh3.googleusercontent.com/a/default-user=s64",
      "userId": "08513540661440261081"
     },
     "user_tz": 360
    },
    "id": "Stel8QmCM0Xs",
    "outputId": "effa38d5-49e6-4619-d401-9708df797d4d"
   },
   "outputs": [
    {
     "data": {
      "text/plain": [
       "Text(0.5, 0, 'Iterations')"
      ]
     },
     "execution_count": 31,
     "metadata": {},
     "output_type": "execute_result"
    },
    {
     "data": {
      "image/png": "[encoded data removed]",
      "text/plain": [
       "<Figure size 432x288 with 1 Axes>"
      ]
     },
     "metadata": {
      "needs_background": "light"
     },
     "output_type": "display_data"
    }
   ],
   "source": [
    "plt.plot(np.arange(iters), losses)\n",
    "plt.ylabel('Loss')\n",
    "plt.yscale(\"log\")\n",
    "plt.xlabel('Iterations')"
   ]
  },
  {
   "cell_type": "code",
   "execution_count": null,
   "metadata": {
    "id": "gJQ4s_zaNCn9"
   },
   "outputs": [],
   "source": []
  },
  {
   "cell_type": "markdown",
   "metadata": {
    "id": "-shoOPvANIsw"
   },
   "source": [
    "# Add learning rate scheduling"
   ]
  },
  {
   "cell_type": "code",
   "execution_count": 32,
   "metadata": {
    "id": "A2QhCK8lNK-N"
   },
   "outputs": [],
   "source": [
    "lr = 1E-4\n",
    "momentum = 0.9\n",
    "iters = 100000\n",
    "batch_size = 16\n",
    "losses = []\n",
    "theta0 = torch.nn.Parameter(torch.rand(1,requires_grad=True))\n",
    "theta1 = torch.nn.Parameter(torch.rand(1,requires_grad=True))\n",
    "weights = [theta0, theta1]\n",
    "opt = torch.optim.SGD(weights, lr=lr, momentum=momentum)\n",
    "sched = torch.optim.lr_scheduler.MultiStepLR(opt, [20000,30000], gamma=0.1, last_epoch=-1, verbose=False)\n",
    "for i in range(iters):\n",
    "    idx = np.random.choice(np.arange(x.shape[0]), size=batch_size)\n",
    "    opt.zero_grad()\n",
    "    y_pred = theta0*x[idx] + theta1\n",
    "    J = torch.mean((y_pred - y_target[idx])**2)\n",
    "    J.backward()\n",
    "    opt.step()\n",
    "    losses.append(J.item())\n",
    "    sched.step()\n"
   ]
  },
  {
   "cell_type": "code",
   "execution_count": 33,
   "metadata": {
    "colab": {
     "base_uri": "https://localhost:8080/",
     "height": 296
    },
    "executionInfo": {
     "elapsed": 765,
     "status": "ok",
     "timestamp": 1644528172260,
     "user": {
      "displayName": "Xian Yeow Lee",
      "photoUrl": "https://lh3.googleusercontent.com/a/default-user=s64",
      "userId": "08513540661440261081"
     },
     "user_tz": 360
    },
    "id": "ioTRzhT1N-TT",
    "outputId": "5cea3071-ef60-408b-8395-40b7bcad4f7b"
   },
   "outputs": [
    {
     "data": {
      "text/plain": [
       "Text(0.5, 0, 'Iterations')"
      ]
     },
     "execution_count": 33,
     "metadata": {},
     "output_type": "execute_result"
    },
    {
     "data": {
      "image/png": "[encoded data removed]",
      "text/plain": [
       "<Figure size 432x288 with 1 Axes>"
      ]
     },
     "metadata": {
      "needs_background": "light"
     },
     "output_type": "display_data"
    }
   ],
   "source": [
    "plt.plot(np.arange(iters), losses)\n",
    "plt.ylabel('Loss')\n",
    "plt.yscale(\"log\")\n",
    "plt.xlabel('Iterations')"
   ]
  },
  {
   "cell_type": "markdown",
   "metadata": {
    "id": "x0zyI7HUO-Dt"
   },
   "source": [
    "# Try different optimizers"
   ]
  },
  {
   "cell_type": "code",
   "execution_count": 34,
   "metadata": {
    "id": "ulSb3FgkORK5"
   },
   "outputs": [],
   "source": [
    "lr = 1E-3\n",
    "iters = 100000\n",
    "batch_size = 16\n",
    "losses = []\n",
    "theta0 = torch.nn.Parameter(torch.rand(1,requires_grad=True))\n",
    "theta1 = torch.nn.Parameter(torch.rand(1,requires_grad=True))\n",
    "weights = [theta0, theta1]\n",
    "opt = torch.optim.Adam(weights, lr=lr)\n",
    "#sched = torch.optim.lr_scheduler.MultiStepLR(opt, [20000,30000], gamma=0.1, last_epoch=-1, verbose=False)\n",
    "for i in range(iters):\n",
    "    idx = np.random.choice(np.arange(x.shape[0]), size=batch_size)\n",
    "    opt.zero_grad()\n",
    "    y_pred = theta0*x[idx] + theta1\n",
    "    J = torch.mean((y_pred - y_target[idx])**2)\n",
    "    J.backward()\n",
    "    opt.step()\n",
    "    losses.append(J.item())\n",
    "    #sched.step()\n"
   ]
  },
  {
   "cell_type": "code",
   "execution_count": 35,
   "metadata": {
    "colab": {
     "base_uri": "https://localhost:8080/",
     "height": 296
    },
    "executionInfo": {
     "elapsed": 534,
     "status": "ok",
     "timestamp": 1644528430402,
     "user": {
      "displayName": "Xian Yeow Lee",
      "photoUrl": "https://lh3.googleusercontent.com/a/default-user=s64",
      "userId": "08513540661440261081"
     },
     "user_tz": 360
    },
    "id": "eoKPjIP3PENF",
    "outputId": "fa694afd-beb2-415a-d171-c5f8a49a445f"
   },
   "outputs": [
    {
     "data": {
      "text/plain": [
       "Text(0.5, 0, 'Iterations')"
      ]
     },
     "execution_count": 35,
     "metadata": {},
     "output_type": "execute_result"
    },
    {
     "data": {
      "image/png": "[encoded data removed]",
      "text/plain": [
       "<Figure size 432x288 with 1 Axes>"
      ]
     },
     "metadata": {
      "needs_background": "light"
     },
     "output_type": "display_data"
    }
   ],
   "source": [
    "plt.plot(np.arange(iters), losses)\n",
    "plt.ylabel('Loss')\n",
    "plt.yscale(\"log\")\n",
    "plt.xlabel('Iterations')"
   ]
  },
  {
   "cell_type": "code",
   "execution_count": null,
   "metadata": {
    "id": "qxpauYVAPbdB"
   },
   "outputs": [],
   "source": []
  },
  {
   "cell_type": "code",
   "execution_count": null,
   "metadata": {
    "id": "GDbvKvSiQfuw"
   },
   "outputs": [],
   "source": []
  },
  {
   "cell_type": "markdown",
   "metadata": {
    "id": "ac8JgxyiRFOD"
   },
   "source": [
    "# Arbitrary Model Fitting"
   ]
  },
  {
   "cell_type": "code",
   "execution_count": 36,
   "metadata": {
    "id": "zrXn_oNiRIg5"
   },
   "outputs": [],
   "source": [
    "x = np.linspace(0.0, 100, 500)\n",
    "y = 10*np.sin(3.5*x) + 20*x + 32\n",
    "x = torch.tensor(x, requires_grad=True)\n",
    "y_target = torch.tensor(y, requires_grad=True)\n",
    "\n",
    "lr = 1E-3\n",
    "iters = 100000\n",
    "batch_size = 16\n",
    "losses = []\n",
    "theta0 = torch.nn.Parameter(torch.rand(1,requires_grad=True))\n",
    "theta1 = torch.nn.Parameter(torch.rand(1,requires_grad=True))\n",
    "theta2 = torch.nn.Parameter(torch.rand(1,requires_grad=True))\n",
    "theta3 = torch.nn.Parameter(torch.rand(1,requires_grad=True))\n",
    "weights = [theta0, theta1, theta2, theta3]\n",
    "opt = torch.optim.Adam(weights, lr=lr)\n",
    "for i in range(iters):\n",
    "    idx = np.random.choice(np.arange(x.shape[0]), size=batch_size)\n",
    "    opt.zero_grad()\n",
    "    y_pred = theta0*torch.sin(theta1*x[idx]) + theta2*x[idx] + theta3\n",
    "    J = torch.mean((y_pred - y_target[idx])**2)\n",
    "    J.backward()\n",
    "    opt.step()\n",
    "    losses.append(J.item())\n"
   ]
  },
  {
   "cell_type": "code",
   "execution_count": 37,
   "metadata": {
    "colab": {
     "base_uri": "https://localhost:8080/",
     "height": 296
    },
    "executionInfo": {
     "elapsed": 661,
     "status": "ok",
     "timestamp": 1644526590315,
     "user": {
      "displayName": "Xian Yeow Lee",
      "photoUrl": "https://lh3.googleusercontent.com/a/default-user=s64",
      "userId": "08513540661440261081"
     },
     "user_tz": 360
    },
    "id": "6uHkmndxR7Ef",
    "outputId": "505f8339-1afe-4848-bef0-199932d6b68d"
   },
   "outputs": [
    {
     "data": {
      "text/plain": [
       "Text(0.5, 0, 'Iterations')"
      ]
     },
     "execution_count": 37,
     "metadata": {},
     "output_type": "execute_result"
    },
    {
     "data": {
      "image/png": "[encoded data removed]",
      "text/plain": [
       "<Figure size 432x288 with 1 Axes>"
      ]
     },
     "metadata": {
      "needs_background": "light"
     },
     "output_type": "display_data"
    }
   ],
   "source": [
    "plt.plot(np.arange(iters), losses)\n",
    "plt.ylabel('Loss')\n",
    "plt.yscale(\"log\")\n",
    "plt.xlabel('Iterations')"
   ]
  },
  {
   "cell_type": "code",
   "execution_count": 38,
   "metadata": {
    "colab": {
     "base_uri": "https://localhost:8080/"
    },
    "executionInfo": {
     "elapsed": 230,
     "status": "ok",
     "timestamp": 1644526590541,
     "user": {
      "displayName": "Xian Yeow Lee",
      "photoUrl": "https://lh3.googleusercontent.com/a/default-user=s64",
      "userId": "08513540661440261081"
     },
     "user_tz": 360
    },
    "id": "za0eslQNSFK-",
    "outputId": "07a6214f-e2eb-400b-f285-516a2a79fb28"
   },
   "outputs": [
    {
     "name": "stdout",
     "output_type": "stream",
     "text": [
      "Parameter containing:\n",
      "tensor([-0.0028], requires_grad=True) Parameter containing:\n",
      "tensor([0.2936], requires_grad=True) Parameter containing:\n",
      "tensor([19.9984], requires_grad=True) Parameter containing:\n",
      "tensor([32.1223], requires_grad=True)\n"
     ]
    }
   ],
   "source": [
    "print(theta0, theta1, theta2, theta3)"
   ]
  },
  {
   "cell_type": "code",
   "execution_count": 39,
   "metadata": {
    "colab": {
     "base_uri": "https://localhost:8080/",
     "height": 949
    },
    "executionInfo": {
     "elapsed": 464,
     "status": "ok",
     "timestamp": 1644526591003,
     "user": {
      "displayName": "Xian Yeow Lee",
      "photoUrl": "https://lh3.googleusercontent.com/a/default-user=s64",
      "userId": "08513540661440261081"
     },
     "user_tz": 360
    },
    "id": "r4KaevI9SZ5G",
    "outputId": "096b9029-13ec-47c2-8299-3ce2949e84b0"
   },
   "outputs": [
    {
     "data": {
      "image/png": "[encoded data removed]",
      "text/plain": [
       "<Figure size 1008x576 with 1 Axes>"
      ]
     },
     "metadata": {
      "needs_background": "light"
     },
     "output_type": "display_data"
    },
    {
     "data": {
      "image/png": "[encoded data removed]",
      "text/plain": [
       "<Figure size 1008x576 with 1 Axes>"
      ]
     },
     "metadata": {
      "needs_background": "light"
     },
     "output_type": "display_data"
    }
   ],
   "source": [
    "with torch.no_grad():\n",
    "    y_pred = theta0*torch.sin(theta1*x) + theta2*x + theta3\n",
    "    plt.figure(figsize=(14,8))\n",
    "    plt.scatter(y_pred, y_target)\n",
    "    plt.plot(np.arange(max(y_pred)), np.arange(max(y_pred)), color='b')\n",
    "    plt.figure(figsize=(14,8))\n",
    "    plt.scatter(x, y_pred)"
   ]
  },
  {
   "cell_type": "code",
   "execution_count": null,
   "metadata": {
    "id": "Mrcz4oceShRW"
   },
   "outputs": [],
   "source": []
  },
  {
   "cell_type": "markdown",
   "metadata": {
    "id": "s_N0Ox8fl06U"
   },
   "source": [
    "# Important docs for reference\n",
    "1. https://pytorch.org/docs/stable/optim.html\n",
    "2. https://ruder.io/optimizing-gradient-descent/\n"
   ]
  },
  {
   "cell_type": "code",
   "execution_count": null,
   "metadata": {
    "id": "355SZo-Jl4vP"
   },
   "outputs": [],
   "source": []
  }
 ],
 "metadata": {
  "colab": {
   "collapsed_sections": [],
   "name": "02_autograd_and_optimization.ipynb",
   "provenance": []
  },
  "kernelspec": {
   "display_name": "Python 3 (ipykernel)",
   "language": "python",
   "name": "python3"
  },
  "language_info": {
   "codemirror_mode": {
    "name": "ipython",
    "version": 3
   },
   "file_extension": ".py",
   "mimetype": "text/x-python",
   "name": "python",
   "nbconvert_exporter": "python",
   "pygments_lexer": "ipython3",
   "version": "3.9.10"
  }
 },
 "nbformat": 4,
 "nbformat_minor": 4
}
