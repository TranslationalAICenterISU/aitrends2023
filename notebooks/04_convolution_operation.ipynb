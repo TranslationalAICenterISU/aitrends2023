{
 "cells": [
  {
   "cell_type": "markdown",
   "metadata": {
    "id": "YzXeTwhwlU_x"
   },
   "source": [
    "# Fun with Convolution \n",
    "\n",
    "The concept of *convolution* is fundamental to understanding modern deep network architectures (indeed, the success of deep convnets in object recognition was arguably the major driver in kickstarting the current wave of AI starting from the early 2010s). \n",
    "\n",
    "But convolution can be quite tricky to internalize, particularly when taught from a mathematical viewpoint. This short tutorial is non-mathematical in its treatment, and instead presents a visualization of 2D convolution of an input image with various filters. We will explore both filtering and pooling, both of which are commonly used operations in convnets."
   ]
  },
  {
   "cell_type": "code",
   "execution_count": 1,
   "metadata": {
    "id": "FNCfBOgwlSGw"
   },
   "outputs": [],
   "source": [
    "import torch\n",
    "import torch.nn as nn\n",
    "import torch.nn.functional as F\n",
    "import torch.optim as optim\n",
    "import torch.utils.data as data\n",
    "\n",
    "import torchvision.transforms as transforms\n",
    "import torchvision.datasets as datasets\n",
    "\n",
    "import matplotlib.pyplot as plt\n",
    "import numpy as np"
   ]
  },
  {
   "cell_type": "markdown",
   "metadata": {
    "id": "xmFwYlRcnOl-"
   },
   "source": [
    "As visualization examples we will use the MNIST dataset."
   ]
  },
  {
   "cell_type": "code",
   "execution_count": 2,
   "metadata": {
    "colab": {
     "base_uri": "https://localhost:8080/"
    },
    "id": "mgegj-pQnNjS",
    "outputId": "815bb510-9f2a-492d-f241-4b82b53ea1c9"
   },
   "outputs": [
    {
     "name": "stdout",
     "output_type": "stream",
     "text": [
      "Downloading http://yann.lecun.com/exdb/mnist/train-images-idx3-ubyte.gz\n",
      "Downloading http://yann.lecun.com/exdb/mnist/train-images-idx3-ubyte.gz to .data/MNIST/raw/train-images-idx3-ubyte.gz\n"
     ]
    },
    {
     "data": {
      "application/vnd.jupyter.widget-view+json": {
       "model_id": "0b2dc4e673f14cf2b28e9f646fdb8db8",
       "version_major": 2,
       "version_minor": 0
      },
      "text/plain": [
       "  0%|          | 0/9912422 [00:00<?, ?it/s]"
      ]
     },
     "metadata": {},
     "output_type": "display_data"
    },
    {
     "name": "stdout",
     "output_type": "stream",
     "text": [
      "Extracting .data/MNIST/raw/train-images-idx3-ubyte.gz to .data/MNIST/raw\n",
      "\n",
      "Downloading http://yann.lecun.com/exdb/mnist/train-labels-idx1-ubyte.gz\n",
      "Downloading http://yann.lecun.com/exdb/mnist/train-labels-idx1-ubyte.gz to .data/MNIST/raw/train-labels-idx1-ubyte.gz\n"
     ]
    },
    {
     "data": {
      "application/vnd.jupyter.widget-view+json": {
       "model_id": "3c08a213f4b640fea08aa23664f26a24",
       "version_major": 2,
       "version_minor": 0
      },
      "text/plain": [
       "  0%|          | 0/28881 [00:00<?, ?it/s]"
      ]
     },
     "metadata": {},
     "output_type": "display_data"
    },
    {
     "name": "stdout",
     "output_type": "stream",
     "text": [
      "Extracting .data/MNIST/raw/train-labels-idx1-ubyte.gz to .data/MNIST/raw\n",
      "\n",
      "Downloading http://yann.lecun.com/exdb/mnist/t10k-images-idx3-ubyte.gz\n",
      "Downloading http://yann.lecun.com/exdb/mnist/t10k-images-idx3-ubyte.gz to .data/MNIST/raw/t10k-images-idx3-ubyte.gz\n"
     ]
    },
    {
     "data": {
      "application/vnd.jupyter.widget-view+json": {
       "model_id": "b45a9b2a4eca4fd39c90366bcf8b5b9f",
       "version_major": 2,
       "version_minor": 0
      },
      "text/plain": [
       "  0%|          | 0/1648877 [00:00<?, ?it/s]"
      ]
     },
     "metadata": {},
     "output_type": "display_data"
    },
    {
     "name": "stdout",
     "output_type": "stream",
     "text": [
      "Extracting .data/MNIST/raw/t10k-images-idx3-ubyte.gz to .data/MNIST/raw\n",
      "\n",
      "Downloading http://yann.lecun.com/exdb/mnist/t10k-labels-idx1-ubyte.gz\n",
      "Downloading http://yann.lecun.com/exdb/mnist/t10k-labels-idx1-ubyte.gz to .data/MNIST/raw/t10k-labels-idx1-ubyte.gz\n"
     ]
    },
    {
     "data": {
      "application/vnd.jupyter.widget-view+json": {
       "model_id": "07e1f2f080254746b77f834bb7ad225d",
       "version_major": 2,
       "version_minor": 0
      },
      "text/plain": [
       "  0%|          | 0/4542 [00:00<?, ?it/s]"
      ]
     },
     "metadata": {},
     "output_type": "display_data"
    },
    {
     "name": "stdout",
     "output_type": "stream",
     "text": [
      "Extracting .data/MNIST/raw/t10k-labels-idx1-ubyte.gz to .data/MNIST/raw\n",
      "\n"
     ]
    }
   ],
   "source": [
    "ROOT = '.data'\n",
    "mean = 0.13066 # we use this for normalization\n",
    "std = 0.30810 # we use this for normalization\n",
    "test_transforms = transforms.Compose([\n",
    "                           transforms.ToTensor(),\n",
    "                           transforms.Normalize(mean = [mean], std = [std])\n",
    "                                     ])\n",
    "\n",
    "test_data = datasets.MNIST(root = ROOT, \n",
    "                           train = False, \n",
    "                           download = True, \n",
    "                           transform = test_transforms)"
   ]
  },
  {
   "cell_type": "markdown",
   "metadata": {
    "id": "2znIj7NOoILd"
   },
   "source": [
    "Let us also add some boilerplate code for plotting images."
   ]
  },
  {
   "cell_type": "code",
   "execution_count": 3,
   "metadata": {
    "id": "bbNMxDiUoLs8"
   },
   "outputs": [],
   "source": [
    "def plot_filter(images, filtered_images):\n",
    "    \n",
    "    n_images = images.shape[0]\n",
    "\n",
    "    fig = plt.figure(figsize = (20, 5))\n",
    "    \n",
    "    for i in range(n_images):\n",
    "\n",
    "        ax = fig.add_subplot(2, n_images, i+1)\n",
    "        ax.imshow(images[i].squeeze(0), cmap = 'bone')\n",
    "        ax.set_title('Original')\n",
    "        ax.axis('off')\n",
    "\n",
    "        image = filtered_images[i].squeeze(0)\n",
    "\n",
    "        ax = fig.add_subplot(2, n_images, n_images+i+1)\n",
    "        ax.imshow(image, cmap='bone')\n",
    "        ax.set_title(f'Output')\n",
    "        ax.axis('off');"
   ]
  },
  {
   "cell_type": "markdown",
   "metadata": {
    "id": "Wthw3ABiouEq"
   },
   "source": [
    "We can now try some basic filtering operations. Let us first grab some images from the test dataset."
   ]
  },
  {
   "cell_type": "code",
   "execution_count": 4,
   "metadata": {
    "id": "TO6PJDropSXg"
   },
   "outputs": [],
   "source": [
    "num_images = 5\n",
    "images = []\n",
    "\n",
    "for i in range(num_images):\n",
    "  image, label = test_data[i]\n",
    "  images.append(image)"
   ]
  },
  {
   "cell_type": "markdown",
   "metadata": {
    "id": "lRJAOZfmrqJp"
   },
   "source": [
    "Let's convert to a Torch tensor by adding a singleton dimension."
   ]
  },
  {
   "cell_type": "code",
   "execution_count": 5,
   "metadata": {
    "id": "GMj6yr7Grpel"
   },
   "outputs": [],
   "source": [
    "images = torch.cat([img.unsqueeze(0) for img in images], dim = 0)\n"
   ]
  },
  {
   "cell_type": "markdown",
   "metadata": {
    "id": "jhnNcAkxr59n"
   },
   "source": [
    "We can now start using these images for illustrating 2D convolution. The `conv2d` function in Torch is perfect for this. \n",
    "\n",
    "Convolution, at a high level, takes every small window of input pixels, computes their weighted linear combination (where the weights are the filter values), and produces an output pixel. \n",
    "\n",
    "Two key points to note here:\n",
    "* Each output pixel only depends on a small *local* neighborhood of input pixels.\n",
    "* The weights of the filter remain the same no matter whether one is computing the first output pixel, or the second, or anywhere in the output (i.e., the filter is *shift-invariant*).\n",
    "\n",
    "To illustrate: let's start with a small 2x2 filter with all ones. "
   ]
  },
  {
   "cell_type": "code",
   "execution_count": 6,
   "metadata": {
    "colab": {
     "base_uri": "https://localhost:8080/",
     "height": 319
    },
    "id": "7T2mwlTsoXKK",
    "outputId": "28f3429c-dcaf-4575-dd92-f7c19eaee60f"
   },
   "outputs": [
    {
     "data": {
      "image/png": "[encoded data removed]",
      "text/plain": [
       "<Figure size 1440x360 with 10 Axes>"
      ]
     },
     "metadata": {
      "needs_background": "light"
     },
     "output_type": "display_data"
    }
   ],
   "source": [
    "filter = [[1,1],\n",
    "          [1,1]]\n",
    "filter = torch.FloatTensor(filter).unsqueeze(0).unsqueeze(0)\n",
    "\n",
    "filtered_images = F.conv2d(images,filter)\n",
    "plot_filter(images, filtered_images)\n"
   ]
  },
  {
   "cell_type": "markdown",
   "metadata": {
    "id": "BhLbQFLgsuh4"
   },
   "source": [
    "Hmm, can't really see much here (although the outputs look slightly grayer than the inputs). \n",
    "\n",
    "Also, if you examine the size of the output, you can see that the size has decreased by 1. (Reason why this is the case by counting the number of possible windows in the input image.)\n",
    "\n",
    "What if we increase the size of the filter?"
   ]
  },
  {
   "cell_type": "code",
   "execution_count": 7,
   "metadata": {
    "colab": {
     "base_uri": "https://localhost:8080/",
     "height": 319
    },
    "id": "R69QYvoOs6N0",
    "outputId": "c56cde54-d345-4a85-8149-c630c5c6ecec"
   },
   "outputs": [
    {
     "data": {
      "image/png": "[encoded data removed]",
      "text/plain": [
       "<Figure size 1440x360 with 10 Axes>"
      ]
     },
     "metadata": {
      "needs_background": "light"
     },
     "output_type": "display_data"
    }
   ],
   "source": [
    "filter = [[1,1,1,1,1],\n",
    "          [1,1,1,1,1],\n",
    "          [1,1,1,1,1],\n",
    "          [1,1,1,1,1],\n",
    "          [1,1,1,1,1]\n",
    "          ]\n",
    "filter = torch.FloatTensor(filter).unsqueeze(0).unsqueeze(0)\n",
    "\n",
    "filtered_images = F.conv2d(images,filter)\n",
    "plot_filter(images, filtered_images)"
   ]
  },
  {
   "cell_type": "markdown",
   "metadata": {
    "id": "OhNo7-SKtFAk"
   },
   "source": [
    "The effect is now much more visible. \n",
    "\n",
    "The all-ones filter averages (or smears) out values of the input, therefore producing blurry image outputs. Play around with different filter sizes to see what happens. At what point does the output become completely unrecognizable?\n",
    "\n",
    "\n",
    "Let us now try an different filter. "
   ]
  },
  {
   "cell_type": "code",
   "execution_count": 8,
   "metadata": {
    "colab": {
     "base_uri": "https://localhost:8080/",
     "height": 319
    },
    "id": "ZZ7gUFgHuWDo",
    "outputId": "53cf7e8a-288e-4a6e-bfdf-1af33ffcfa71"
   },
   "outputs": [
    {
     "data": {
      "image/png": "[encoded data removed]",
      "text/plain": [
       "<Figure size 1440x360 with 10 Axes>"
      ]
     },
     "metadata": {
      "needs_background": "light"
     },
     "output_type": "display_data"
    }
   ],
   "source": [
    "filter = [[1,1],\n",
    "          [-1,-1]]\n",
    "filter = torch.FloatTensor(filter).unsqueeze(0).unsqueeze(0)\n",
    "\n",
    "filtered_images = F.conv2d(images,filter)\n",
    "plot_filter(images, filtered_images)"
   ]
  },
  {
   "cell_type": "markdown",
   "metadata": {
    "id": "XYsTCFucuo4T"
   },
   "source": [
    "Interesting. If you stare carefully, features that are *vertical* (such as most of the 1, or the left side of the 0, or the stalk of the 4) have been grayed out, while features that are *horizontal* (such as the bar of the 7, or the bar of the 4) are bright. This particular filter is a type of *horizontal edge detector*. The effect is slightly more pronounced if we use 3x3 filters."
   ]
  },
  {
   "cell_type": "code",
   "execution_count": 9,
   "metadata": {
    "colab": {
     "base_uri": "https://localhost:8080/",
     "height": 319
    },
    "id": "H2xHbbsewKtu",
    "outputId": "6f309915-a89b-49a8-8b45-1a8b7c335af9"
   },
   "outputs": [
    {
     "data": {
      "image/png": "[encoded data removed]",
      "text/plain": [
       "<Figure size 1440x360 with 10 Axes>"
      ]
     },
     "metadata": {
      "needs_background": "light"
     },
     "output_type": "display_data"
    }
   ],
   "source": [
    "filter = [[1,2,1],\n",
    "          [0,0,0],\n",
    "          [-1,-2,-1]]\n",
    "filter = torch.FloatTensor(filter).unsqueeze(0).unsqueeze(0)\n",
    "\n",
    "filtered_images = F.conv2d(images,filter)\n",
    "plot_filter(images, filtered_images)"
   ]
  },
  {
   "cell_type": "markdown",
   "metadata": {
    "id": "TnNyFrW3w7N3"
   },
   "source": [
    "See if you can get better edge detection using other filters. Play around also with the direction; how would you detect vertical edges?\n",
    "\n",
    "\n",
    "Let us now also examine pooling. This is related to filtering, and is used to reduce resolution (size) of the input image. Like convolution, this also happens by operating on windows of the input; the difference, however, is that we now use a *stride*, i.e., we skip over certain windows. For example, with stride = 2, we skip computing output of every 2nd window; this means that the output is (approximately, barring fence effects) half the size of the input.\n",
    "\n",
    "The two most common types of pooling are *average* pooling and *max* pooling."
   ]
  },
  {
   "cell_type": "code",
   "execution_count": 10,
   "metadata": {
    "colab": {
     "base_uri": "https://localhost:8080/",
     "height": 319
    },
    "id": "4_BWEqMSzDN4",
    "outputId": "3f0a4e49-ce87-419a-e8d8-d5f2e066ea1b"
   },
   "outputs": [
    {
     "data": {
      "image/png": "[encoded data removed]",
      "text/plain": [
       "<Figure size 1440x360 with 10 Axes>"
      ]
     },
     "metadata": {
      "needs_background": "light"
     },
     "output_type": "display_data"
    }
   ],
   "source": [
    "pooled_images = F.avg_pool2d(images,kernel_size=3)\n",
    "plot_filter(images, pooled_images)"
   ]
  },
  {
   "cell_type": "markdown",
   "metadata": {
    "id": "5wbs8TZHzs0N"
   },
   "source": [
    "As visually evident, the output looks blocky and very low-res. Also, since we used average pooling here, the output is grayed out. Max-pool retains brightness (since the output is the max of the values in the given window)."
   ]
  },
  {
   "cell_type": "code",
   "execution_count": 11,
   "metadata": {
    "colab": {
     "base_uri": "https://localhost:8080/",
     "height": 373
    },
    "id": "YmfVPjnmz_XT",
    "outputId": "73ad5c2c-00e7-4adf-e268-22691edeb18b"
   },
   "outputs": [
    {
     "data": {
      "image/png": "[encoded data removed]",
      "text/plain": [
       "<Figure size 1440x360 with 10 Axes>"
      ]
     },
     "metadata": {
      "needs_background": "light"
     },
     "output_type": "display_data"
    }
   ],
   "source": [
    "pooled_images = F.max_pool2d(images,kernel_size=2)\n",
    "plot_filter(images, pooled_images)"
   ]
  },
  {
   "cell_type": "markdown",
   "metadata": {
    "id": "UNbDS0ED0WKp"
   },
   "source": [
    "This is basically it! We now know what these elementary operations (filtering and pooling) mean in the context of convnets. \n",
    "\n",
    "In essence, the forward pass of any convolutional network (however deep) involves some combination of filtering and pooling operations as discussed above, interspersed with nonlinear (pixel-wise) activations, Sometimes possibly other types of pointwise operations such as batch-norm or drop-out are used, but the conv operations are the key.\n",
    "\n",
    "The crucial difference, of course, is that in convnets, the filter weights are not *a priori* set by hand (as we did in the above examples) but rather incrementally learned from data using back-propagation."
   ]
  },
  {
   "cell_type": "code",
   "execution_count": null,
   "metadata": {},
   "outputs": [],
   "source": []
  },
  {
   "cell_type": "code",
   "execution_count": null,
   "metadata": {},
   "outputs": [],
   "source": []
  }
 ],
 "metadata": {
  "colab": {
   "name": "demo4.ipynb",
   "provenance": []
  },
  "kernelspec": {
   "display_name": "Python 3 (ipykernel)",
   "language": "python",
   "name": "python3"
  },
  "language_info": {
   "codemirror_mode": {
    "name": "ipython",
    "version": 3
   },
   "file_extension": ".py",
   "mimetype": "text/x-python",
   "name": "python",
   "nbconvert_exporter": "python",
   "pygments_lexer": "ipython3",
   "version": "3.9.10"
  }
 },
 "nbformat": 4,
 "nbformat_minor": 4
}
